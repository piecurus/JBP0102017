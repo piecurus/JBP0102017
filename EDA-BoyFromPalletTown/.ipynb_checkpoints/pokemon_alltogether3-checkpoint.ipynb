{
 "cells": [
  {
   "cell_type": "code",
   "execution_count": null,
   "metadata": {
    "collapsed": false,
    "deletable": true,
    "editable": true
   },
   "outputs": [
    {
     "name": "stderr",
     "output_type": "stream",
     "text": [
      "/Users/piero/anaconda/lib/python2.7/site-packages/matplotlib/font_manager.py:273: UserWarning: Matplotlib is building the font cache using fc-list. This may take a moment.\n",
      "  warnings.warn('Matplotlib is building the font cache using fc-list. This may take a moment.')\n"
     ]
    }
   ],
   "source": [
    "import pandas as pd\n",
    "import matplotlib.pyplot as plt\n",
    "import seaborn as sns\n",
    "import numpy as np"
   ]
  },
  {
   "cell_type": "code",
   "execution_count": null,
   "metadata": {
    "collapsed": false,
    "scrolled": true
   },
   "outputs": [
    {
     "name": "stdout",
     "output_type": "stream",
     "text": [
      "Fetching package metadata ...........\n",
      "Solving package specifications: .\n",
      "\n",
      "Package plan for installation in environment /Users/piero/anaconda:\n",
      "\n",
      "The following NEW packages will be INSTALLED:\n",
      "\n",
      "    cairo:         1.14.8-0            \n",
      "    fontconfig:    2.12.1-3            \n",
      "    gettext:       0.19.8-1            \n",
      "    glib:          2.50.2-1            \n",
      "    gsl:           2.2.1-0             \n",
      "    harfbuzz:      0.9.39-2            \n",
      "    icu:           54.1-0              \n",
      "    libffi:        3.2.1-1             \n",
      "    libgcc:        4.8.5-1             \n",
      "    libiconv:      1.14-0              \n",
      "    ncurses:       5.9-10              \n",
      "    olefile:       0.44-py27_0         \n",
      "    pango:         1.40.3-1            \n",
      "    pcre:          8.39-1              \n",
      "    pixman:        0.34.0-0            \n",
      "    r:             3.3.2-r3.3.2_0     r\n",
      "    r-base:        3.3.2-1            r\n",
      "    r-boot:        1.3_18-r3.3.2_0    r\n",
      "    r-class:       7.3_14-r3.3.2_0    r\n",
      "    r-cluster:     2.0.5-r3.3.2_0     r\n",
      "    r-codetools:   0.2_15-r3.3.2_0    r\n",
      "    r-foreign:     0.8_67-r3.3.2_0    r\n",
      "    r-kernsmooth:  2.23_15-r3.3.2_0   r\n",
      "    r-lattice:     0.20_34-r3.3.2_0   r\n",
      "    r-mass:        7.3_45-r3.3.2_0    r\n",
      "    r-matrix:      1.2_7.1-r3.3.2_0   r\n",
      "    r-mgcv:        1.8_16-r3.3.2_0    r\n",
      "    r-nlme:        3.1_128-r3.3.2_0   r\n",
      "    r-nnet:        7.3_12-r3.3.2_0    r\n",
      "    r-recommended: 3.3.2-r3.3.2_0     r\n",
      "    r-rpart:       4.1_10-r3.3.2_0    r\n",
      "    r-spatial:     7.3_11-r3.3.2_0    r\n",
      "    r-survival:    2.40_1-r3.3.2_0    r\n",
      "    rpy2:          2.8.5-py27r3.3.2_2 r\n",
      "\n",
      "The following packages will be UPDATED:\n",
      "\n",
      "    conda:         4.3.14-py27_0        --> 4.3.16-py27_0\n",
      "    freetype:      2.5.5-0              --> 2.5.5-2      \n",
      "    jpeg:          8d-1                 --> 9b-0         \n",
      "    libpng:        1.6.17-0             --> 1.6.27-0     \n",
      "    libtiff:       4.0.6-1              --> 4.0.6-3      \n",
      "    pillow:        3.1.1-py27_0         --> 4.1.0-py27_0 \n",
      "    xz:            5.0.5-1              --> 5.2.2-1      \n",
      "\n",
      "icu-54.1-0.tar 100% |################################| Time: 0:00:11 986.06 kB/s\n",
      "jpeg-9b-0.tar. 100% |################################| Time: 0:00:00   1.21 MB/s\n",
      "libffi-3.2.1-1 100% |################################| Time: 0:00:00   2.46 MB/s\n",
      "libgcc-4.8.5-1 100% |################################| Time: 0:00:00 999.30 kB/s\n",
      "libiconv-1.14- 100% |################################| Time: 0:00:01 771.83 kB/s\n",
      "ncurses-5.9-10 100% |################################| Time: 0:00:00 980.96 kB/s\n",
      "pixman-0.34.0- 100% |################################| Time: 0:00:00   1.28 MB/s\n",
      "xz-5.2.2-1.tar 100% |################################| Time: 0:00:00   1.43 MB/s\n",
      "gettext-0.19.8 100% |################################| Time: 0:00:02   1.22 MB/s\n",
      "gsl-2.2.1-0.ta 100% |################################| Time: 0:00:01   1.20 MB/s\n",
      "libpng-1.6.27- 100% |################################| Time: 0:00:00   1.31 MB/s\n",
      "libtiff-4.0.6- 100% |################################| Time: 0:00:00 879.65 kB/s\n",
      "pcre-8.39-1.ta 100% |################################| Time: 0:00:00   1.16 MB/s\n",
      "freetype-2.5.5 100% |################################| Time: 0:00:01 589.57 kB/s\n",
      "glib-2.50.2-1. 100% |################################| Time: 0:00:02   1.11 MB/s\n",
      "olefile-0.44-p 100% |################################| Time: 0:00:00   1.26 MB/s\n",
      "fontconfig-2.1 100% |################################| Time: 0:00:00   1.30 MB/s\n",
      "pillow-4.1.0-p 100% |################################| Time: 0:00:00   1.36 MB/s\n",
      "cairo-1.14.8-0 100% |################################| Time: 0:00:01 520.90 kB/s\n",
      "harfbuzz-0.9.3 100% |################################| Time: 0:00:00 393.10 kB/s\n",
      "conda-4.3.16-p 100% |################################| Time: 0:00:00 931.03 kB/s\n",
      "pango-1.40.3-1 100% |################################| Time: 0:00:00   1.08 MB/s\n",
      "r-base-3.3.2-1  72% |#######################         | Time: 0:00:51 710.44 kB/s"
     ]
    }
   ],
   "source": [
    "! conda install -y -c r r-base='3.3.2' rpy2"
   ]
  },
  {
   "cell_type": "code",
   "execution_count": null,
   "metadata": {
    "collapsed": false,
    "deletable": true,
    "editable": true
   },
   "outputs": [],
   "source": [
    "%matplotlib inline\n",
    "%load_ext rpy2.ipython"
   ]
  },
  {
   "cell_type": "code",
   "execution_count": null,
   "metadata": {
    "collapsed": false,
    "editable": true
   },
   "outputs": [],
   "source": [
    "%%R\n",
    "library(reshape2)"
   ]
  },
  {
   "cell_type": "code",
   "execution_count": null,
   "metadata": {
    "collapsed": false
   },
   "outputs": [],
   "source": [
    "%%R\n",
    "library(ggplot)"
   ]
  },
  {
   "cell_type": "markdown",
   "metadata": {},
   "source": [
    "# Basic dataframe exploration"
   ]
  },
  {
   "cell_type": "markdown",
   "metadata": {},
   "source": [
    "The original dataset:"
   ]
  },
  {
   "cell_type": "code",
   "execution_count": null,
   "metadata": {
    "collapsed": false,
    "deletable": true,
    "editable": true
   },
   "outputs": [],
   "source": [
    "pokemon = pd.read_csv('Pokemon.csv')\n",
    "\n",
    "df = pd.DataFrame(pokemon)\n",
    "df.head()"
   ]
  },
  {
   "cell_type": "markdown",
   "metadata": {},
   "source": [
    "We check for double types"
   ]
  },
  {
   "cell_type": "code",
   "execution_count": null,
   "metadata": {
    "collapsed": false,
    "editable": true
   },
   "outputs": [],
   "source": [
    "df['Double type'] = df['Type 2'].notnull()\n",
    "df.head()"
   ]
  },
  {
   "cell_type": "markdown",
   "metadata": {},
   "source": [
    "The combination of Type 1 and Type 2 are put in a seperate table"
   ]
  },
  {
   "cell_type": "code",
   "execution_count": null,
   "metadata": {
    "collapsed": false,
    "editable": true
   },
   "outputs": [],
   "source": [
    "df['Combination type'] = df['Type 1'] + '/' + df['Type 2']\n",
    "df['Combination type'].fillna(df['Type 1'], inplace=True)\n",
    "df.head()"
   ]
  },
  {
   "cell_type": "markdown",
   "metadata": {},
   "source": [
    "The number of different types and a top 10 of the types that occur most in the dataset"
   ]
  },
  {
   "cell_type": "code",
   "execution_count": null,
   "metadata": {
    "collapsed": false,
    "editable": true
   },
   "outputs": [],
   "source": [
    "df['Combination type'].value_counts().head(10)"
   ]
  },
  {
   "cell_type": "code",
   "execution_count": null,
   "metadata": {
    "collapsed": false,
    "editable": true
   },
   "outputs": [],
   "source": [
    "df['Combination type'].value_counts().count()"
   ]
  },
  {
   "cell_type": "markdown",
   "metadata": {},
   "source": [
    "The number of single types (True) and double types (False)"
   ]
  },
  {
   "cell_type": "code",
   "execution_count": null,
   "metadata": {
    "collapsed": false,
    "editable": true
   },
   "outputs": [],
   "source": [
    "df['Type 2'].isnull().value_counts()"
   ]
  },
  {
   "cell_type": "markdown",
   "metadata": {
    "editable": true
   },
   "source": [
    "We sorted the data by Generation. You can see that the first generation has the most pokemon but the most generations have around 160 pokemon."
   ]
  },
  {
   "cell_type": "code",
   "execution_count": null,
   "metadata": {
    "collapsed": false,
    "editable": true
   },
   "outputs": [],
   "source": [
    "df_stats = df.groupby('Generation').mean().iloc[:,1:8]\n",
    "df_stats"
   ]
  },
  {
   "cell_type": "code",
   "execution_count": null,
   "metadata": {
    "collapsed": false,
    "editable": true
   },
   "outputs": [],
   "source": [
    "df_nr = df.groupby('Generation').count()['#']\n",
    "df_nr"
   ]
  },
  {
   "cell_type": "markdown",
   "metadata": {},
   "source": [
    "# Correlation check"
   ]
  },
  {
   "cell_type": "markdown",
   "metadata": {
    "editable": true
   },
   "source": [
    "We searched for correlation between statistics.There is no real good correlation between one of those values. You can only see that the total correlates with everything the best. Another higher correlation is between defense and speed defense as well as speed attack and attack."
   ]
  },
  {
   "cell_type": "code",
   "execution_count": null,
   "metadata": {
    "collapsed": true,
    "editable": true
   },
   "outputs": [],
   "source": [
    "df_corr = df.iloc[:,2:-4]"
   ]
  },
  {
   "cell_type": "code",
   "execution_count": null,
   "metadata": {
    "collapsed": false,
    "editable": true
   },
   "outputs": [],
   "source": [
    "correlation = df_corr.corr()\n",
    "correlation"
   ]
  },
  {
   "cell_type": "code",
   "execution_count": null,
   "metadata": {
    "collapsed": false,
    "editable": true
   },
   "outputs": [],
   "source": [
    "fig, ax = plt.subplots(figsize=(10,10))   \n",
    "\n",
    "sns.heatmap(correlation, \n",
    "            xticklabels=correlation.columns.values,\n",
    "            yticklabels=correlation.columns.values,\n",
    "           annot=True, linewidths=.5, ax=ax)"
   ]
  },
  {
   "cell_type": "markdown",
   "metadata": {},
   "source": [
    "# Some figures"
   ]
  },
  {
   "cell_type": "markdown",
   "metadata": {},
   "source": [
    "Below we visualize the boxplots by relevant feature"
   ]
  },
  {
   "cell_type": "code",
   "execution_count": null,
   "metadata": {
    "collapsed": false,
    "editable": true
   },
   "outputs": [],
   "source": [
    "sns.boxplot(data=df.drop(['#', 'Total', 'Generation', 'Legendary', 'Double type'], 1), orient='h');"
   ]
  },
  {
   "cell_type": "markdown",
   "metadata": {
    "editable": true
   },
   "source": [
    "In the violin plot below it becomes apparent that the legendary pokemon appear to have a structurally higher HP than normal pokemon. Additionally the spread is lower. This is evident since the legendary pokemon are usually of a high level and therefore are less bound to have major differences in feature scores."
   ]
  },
  {
   "cell_type": "code",
   "execution_count": null,
   "metadata": {
    "collapsed": false,
    "editable": true
   },
   "outputs": [],
   "source": [
    "type1 = pokemon['Type 1'].value_counts()\n",
    "type2 = pokemon['Type 2'].value_counts()\n",
    "types = pd.concat([type1,type2], axis=1)\n",
    "plt.figure(figsize=(14, 6))\n",
    "plt.ylabel('HP')\n",
    "#boxplot of swarmplot\n",
    "sns.violinplot(data=pokemon, x='Type 1', y='HP', hue='Legendary');"
   ]
  },
  {
   "cell_type": "markdown",
   "metadata": {},
   "source": [
    "The difference between legendary and normal pokemon becomes more clear when looking at the total score. This aggregate feature explicitly highlights that legendary have structurally higher aggregate scores in comparison to normal pokemon, which is what is to be expected."
   ]
  },
  {
   "cell_type": "code",
   "execution_count": null,
   "metadata": {
    "collapsed": false,
    "editable": true
   },
   "outputs": [],
   "source": [
    "plt.figure(figsize=(14, 6))\n",
    "#boxplot of swarmplot of violinplot\n",
    "sns.violinplot(data=pokemon, x='Type 1', y='Total', hue='Legendary');"
   ]
  },
  {
   "cell_type": "markdown",
   "metadata": {},
   "source": [
    "Next a pie chart is given, presenting the distribution of main pokemon types (Type 1). You can see  that most pokemon are water or normal pokemon."
   ]
  },
  {
   "cell_type": "code",
   "execution_count": null,
   "metadata": {
    "collapsed": false,
    "editable": true
   },
   "outputs": [],
   "source": [
    "plt.figure(figsize=(8, 8))\n",
    "# Create a list of colors (from iWantHue)\n",
    "colors = [\"#E13F29\", \"#D69A80\", \"#D63B59\", \"#AE5552\", \"#CB5C3B\", \"#EB8076\", \"#96624E\"]\n",
    "plt.rcParams['font.size'] = 9.0\n",
    "plt.pie(x=type1,\n",
    "        labels=type1.index,\n",
    "       # with no shadows\n",
    "        shadow=False,\n",
    "        # with colors\n",
    "        colors=colors,\n",
    "        # with one slide exploded out\n",
    "        explode=(np.arange(len(type1.index))) * 0.012,\n",
    "        # with the start angle at 90%\n",
    "        startangle=90,\n",
    "        # with the percent listed as a fraction\n",
    "        autopct='%1.1f%%');"
   ]
  },
  {
   "cell_type": "markdown",
   "metadata": {},
   "source": [
    "# Introducing a scoring algorithm"
   ]
  },
  {
   "cell_type": "markdown",
   "metadata": {},
   "source": [
    "Next we want to construct some kind of measurement to score each pokemon. We want to give an indication of the 'strength' of a pokemon, based on a comparison of this pokemon to all the other pokemon in the dataset. To get this score we've constructed an algorithm that runs through the whole dataset for each pokemon and will be comparison based. We basicly try to represent a battle between two pokemon each time a comparison is made. Here we assume optimal behaviour of the pokemon in the sense that the dominant pokemon type (that is, which can do the most damage to the other pokemon) is chosen and a score will be assigned based on the defense and attack tables below.\n",
    "\n",
    "The scoring is as follows:<br>\n",
    "Weak to/Super effective against = 2<br>\n",
    "Resist/Not very effective against = 0.5<br>\n",
    "Immune to/Does no damage to = 0<br>\n",
    "Any other type combination = 1<br>\n",
    "\n",
    "For instance, if a fire type pokemon fights a rock/grass pokemon, the rock type will be dominant over the grass type since fire is weak against rock, which gives a higher score than when compared to grass.\n",
    "\n",
    "In the end, for each pokemon, all the comparison based values will be summed to give an attack index and a defense index. Note that the score is based on the combination type, so pokemon with the same type initialy have the same score.\n",
    "\n",
    "To calculate the strength index we substract the defense index from the attack index, we add 200 to make all values positive and finally multiply that number by the 'Total' feature score from the original dataset.\n",
    "\n",
    "All the steps that are performed are written down as strings, since the computation of these scores can take up a lot of time. The result was exported to an additional csv file named 'Pokemon new dataset', which is used from now on in stead of the original dataset."
   ]
  },
  {
   "cell_type": "code",
   "execution_count": null,
   "metadata": {
    "collapsed": false,
    "deletable": true,
    "editable": true
   },
   "outputs": [],
   "source": [
    "defensefile = pd.read_csv('Pokemon type chart defense.csv', delimiter=';')\n",
    "defensetypes = pd.DataFrame(defensefile)\n",
    "defensetypes = defensetypes.set_index('Type')\n",
    "defensetypes"
   ]
  },
  {
   "cell_type": "code",
   "execution_count": null,
   "metadata": {
    "collapsed": false,
    "deletable": true,
    "editable": true
   },
   "outputs": [],
   "source": [
    "attackfile = pd.read_csv('Pokemon type chart attack.csv', delimiter=';')\n",
    "attacktypes = pd.DataFrame(attackfile)\n",
    "attacktypes = attacktypes.dropna().set_index('Type')\n",
    "attacktypes"
   ]
  },
  {
   "cell_type": "code",
   "execution_count": null,
   "metadata": {
    "collapsed": true,
    "deletable": true,
    "editable": true
   },
   "outputs": [],
   "source": [
    "# Columns to be filled with some kind of measurement"
   ]
  },
  {
   "cell_type": "code",
   "execution_count": null,
   "metadata": {
    "collapsed": false,
    "deletable": true,
    "editable": true
   },
   "outputs": [],
   "source": [
    "#df['Attack index'] = 0\n",
    "#df['Defense index'] = 0\n",
    "#df['Strength index'] = 0"
   ]
  },
  {
   "cell_type": "code",
   "execution_count": null,
   "metadata": {
    "collapsed": true,
    "deletable": true,
    "editable": true
   },
   "outputs": [],
   "source": [
    "# Calculating the measurements. Finished file is imported in 'Pokemon new dataset.ipynb'"
   ]
  },
  {
   "cell_type": "code",
   "execution_count": null,
   "metadata": {
    "collapsed": false,
    "deletable": true,
    "editable": true,
    "scrolled": true
   },
   "outputs": [],
   "source": [
    "'''\n",
    "attackcache = {}\n",
    "for i in range(len(df)):\n",
    "    if df.iloc[i,14] in attackcache:\n",
    "        df.iloc[i,16] = attackcache[df.iloc[i,14]]\n",
    "        continue\n",
    "    checklist =  len(df)*[0]\n",
    "    for j in range(2,4):\n",
    "        if type(df.iloc[i,j]) != float:\n",
    "            for g in range(len(df)):\n",
    "                if checklist[g] < 2:\n",
    "                    count = 0\n",
    "                    for h,item in enumerate(df.iloc[g,14].split(sep='/')):\n",
    "                        if type(item) != float:\n",
    "                            if h == 1:\n",
    "                                    if count == 1:\n",
    "                                        if item in attacktypes.loc[df.iloc[i,j],'Super-effective against (2x)']:\n",
    "                                            count += 1\n",
    "                                    elif count == 0.5:\n",
    "                                        if item in attacktypes.loc[df.iloc[i,j],'Super-effective against (2x)']:\n",
    "                                            count += 1.5\n",
    "                                        elif item in attacktypes.loc[df.iloc[i,j],'Not very effective against (1/2x)']:\n",
    "                                            break\n",
    "                                        elif item not in attacktypes.loc[df.iloc[i,j],'Does no damage to']:\n",
    "                                            count += 0.5\n",
    "                                    else:\n",
    "                                        if item in attacktypes.loc[df.iloc[i,j],'Super-effective against (2x)']:\n",
    "                                            count += 2\n",
    "                                        elif item in attacktypes.loc[df.iloc[i,j],'Not very effective against (1/2x)']:\n",
    "                                            count += 0.5\n",
    "                                        elif item not in attacktypes.loc[df.iloc[i,j],'Does no damage to']:\n",
    "                                            count += 1\n",
    "                            else:\n",
    "                                    if item in attacktypes.loc[df.iloc[i,j],'Super-effective against (2x)']:\n",
    "                                        count += 2\n",
    "                                        break\n",
    "                                    elif item in attacktypes.loc[df.iloc[i,j],'Not very effective against (1/2x)']:\n",
    "                                        count += 0.5\n",
    "                                    elif item not in attacktypes.loc[df.iloc[i,j],'Does no damage to']:\n",
    "                                        count += 1\n",
    "                    if count > checklist[g]:\n",
    "                        checklist[g] = count\n",
    "            \n",
    "    df.iloc[i,16] = sum(checklist)\n",
    "    attackcache[df.iloc[i,14]] = sum(checklist)\n",
    "'''"
   ]
  },
  {
   "cell_type": "code",
   "execution_count": null,
   "metadata": {
    "collapsed": false,
    "deletable": true,
    "editable": true
   },
   "outputs": [],
   "source": [
    "'''\n",
    "defensecache = {}\n",
    "for i in range(len(df)):\n",
    "    if df.iloc[i,14] in defensecache:\n",
    "        df.iloc[i,17] = defensecache[df.iloc[i,14]]\n",
    "        continue\n",
    "    checklist =  len(df)*[0]\n",
    "    for j in range(2,4):\n",
    "        if type(df.iloc[i,j]) != float:\n",
    "            for g in range(len(df)):\n",
    "                if checklist[g] < 2:\n",
    "                    count = 0\n",
    "                    for h,item in enumerate(df.iloc[g,14].split(sep='/')):\n",
    "                        if type(item) != float:\n",
    "                            if h == 1:\n",
    "                                    if count == 1:\n",
    "                                        if item in defensetypes.loc[df.iloc[i,j],'Weak to (2x)']:\n",
    "                                            count += 1\n",
    "                                    elif count == 0.5:\n",
    "                                        if item in defensetypes.loc[df.iloc[i,j],'Weak to (2x)']:\n",
    "                                            count += 1.5\n",
    "                                        elif item in defensetypes.loc[df.iloc[i,j],'Resist (1/2x)']:\n",
    "                                            break\n",
    "                                        elif item not in defensetypes.loc[df.iloc[i,j],'Immune to']:\n",
    "                                            count += 0.5\n",
    "                                    else:\n",
    "                                        if item in defensetypes.loc[df.iloc[i,j],'Weak to (2x)']:\n",
    "                                            count += 2\n",
    "                                        elif item in defensetypes.loc[df.iloc[i,j],'Resist (1/2x)']:\n",
    "                                            count += 0.5\n",
    "                                        elif item not in defensetypes.loc[df.iloc[i,j],'Immune to']:\n",
    "                                            count += 1\n",
    "                            else:\n",
    "                                    if item in defensetypes.loc[df.iloc[i,j],'Weak to (2x)']:\n",
    "                                        count += 2\n",
    "                                        break\n",
    "                                    elif item in defensetypes.loc[df.iloc[i,j],'Resist (1/2x)']:\n",
    "                                        count += 0.5\n",
    "                                    elif item not in defensetypes.loc[df.iloc[i,j],'Immune to']:\n",
    "                                        count += 1\n",
    "                    if count > checklist[g]:\n",
    "                        checklist[g] = count\n",
    "            \n",
    "    df.iloc[i,17] = sum(checklist)\n",
    "    defensecache[df.iloc[i,14]] = sum(checklist)\n",
    "'''"
   ]
  },
  {
   "cell_type": "code",
   "execution_count": null,
   "metadata": {
    "collapsed": true,
    "editable": true
   },
   "outputs": [],
   "source": [
    "# df['Strength index'] = (df['Attack index'] - df['Defense index'] + 200)*df['Total']/100"
   ]
  },
  {
   "cell_type": "code",
   "execution_count": null,
   "metadata": {
    "collapsed": true,
    "editable": true
   },
   "outputs": [],
   "source": [
    "# df.to_csv('Pokemon new dataset.csv', encoding='utf-8') "
   ]
  },
  {
   "cell_type": "code",
   "execution_count": null,
   "metadata": {
    "collapsed": true
   },
   "outputs": [],
   "source": [
    "pokemon_new = pd.read_csv('Pokemon new dataset.csv', sep=',')\n",
    "new_df = pd.DataFrame(pokemon_new)"
   ]
  },
  {
   "cell_type": "code",
   "execution_count": null,
   "metadata": {
    "collapsed": true
   },
   "outputs": [],
   "source": [
    "new_df.drop('Unnamed: 0', axis=1, inplace=True)"
   ]
  },
  {
   "cell_type": "code",
   "execution_count": null,
   "metadata": {
    "collapsed": false,
    "deletable": true,
    "editable": true
   },
   "outputs": [],
   "source": [
    "new_df.sort_values(by='Strength index', ascending=False)"
   ]
  },
  {
   "cell_type": "markdown",
   "metadata": {
    "collapsed": true
   },
   "source": [
    "We read the new_df in R seperately since importing it lead to complications"
   ]
  },
  {
   "cell_type": "code",
   "execution_count": null,
   "metadata": {
    "collapsed": false,
    "deletable": true,
    "editable": true
   },
   "outputs": [],
   "source": [
    "%%R\n",
    "new_df = read.csv('Pokemon new dataset.csv')\n",
    "head(new_df)"
   ]
  },
  {
   "cell_type": "markdown",
   "metadata": {
    "editable": true
   },
   "source": [
    "Here we plotted the probability of having a certain strength-level"
   ]
  },
  {
   "cell_type": "code",
   "execution_count": null,
   "metadata": {
    "collapsed": false,
    "deletable": true,
    "editable": true
   },
   "outputs": [],
   "source": [
    "f, ax = plt.subplots(figsize=(15,10))\n",
    "sns.distplot(new_df['Strength index'],ax=ax)"
   ]
  },
  {
   "cell_type": "markdown",
   "metadata": {},
   "source": [
    "We sort the pokemon based on the mean strength value for each group, when grouped by the unique Type 1 values. Subsequently we plot the strength index probability functions in that order."
   ]
  },
  {
   "cell_type": "code",
   "execution_count": null,
   "metadata": {
    "collapsed": false,
    "deletable": true,
    "editable": true
   },
   "outputs": [],
   "source": [
    "new_df[['Type 1', 'Strength index']].groupby('Type 1').mean().sort_values(by='Strength index').index"
   ]
  },
  {
   "cell_type": "code",
   "execution_count": null,
   "metadata": {
    "collapsed": false,
    "deletable": true,
    "editable": true
   },
   "outputs": [],
   "source": [
    "%%R -w 1000 -h 1000\n",
    "\n",
    "# Ordering the data, grouped by Type 1, by mean of the strength index\n",
    "new_df$Type.1 <- factor(new_df$Type.1, levels = c('Grass', 'Normal', 'Rock', 'Psychic', 'Poison', 'Bug', 'Fighting',\n",
    "       'Dark', 'Steel', 'Water', 'Fire', 'Ghost', 'Ground', 'Dragon', 'Fairy',\n",
    "       'Ice', 'Flying', 'Electric')) \n",
    "\n",
    "# Plotting it in that order\n",
    "ggplot(new_df, aes(x = Strength.index)) + geom_density(alpha = 0.5) + facet_wrap(~ Type.1)"
   ]
  },
  {
   "cell_type": "markdown",
   "metadata": {},
   "source": [
    "We split the dataset by generation and for each type we count the number of times it occurs as a Type 1 and the number of types it occurs as a Type 2. We can perform this operation since the set of pokemon types is the same for Type 1 and Type 2"
   ]
  },
  {
   "cell_type": "code",
   "execution_count": null,
   "metadata": {
    "collapsed": false,
    "editable": true
   },
   "outputs": [],
   "source": [
    "%%R -w 1000 -h 1000\n",
    "\n",
    "dfm <- melt(new_df[,c('Generation','Type.1','Type.2')],id.vars = 1) # Dataframe melting\n",
    "dfm <- dfm[!apply(dfm, 1, function(x) any(x==\"\")),] # Removing the empty values\n",
    "dfm"
   ]
  },
  {
   "cell_type": "code",
   "execution_count": null,
   "metadata": {
    "collapsed": false,
    "editable": true
   },
   "outputs": [],
   "source": [
    "%%R -w 1000 -h 1500\n",
    "\n",
    "ggplot(dfm, aes(x=factor(value), fill=factor(variable))) +\n",
    "    geom_bar(position=\"dodge\") + facet_wrap(~ Generation, ncol=1, scales='free_x') + \n",
    "    labs(fill='', x='Types')"
   ]
  },
  {
   "cell_type": "markdown",
   "metadata": {
    "editable": true
   },
   "source": [
    "We are trying to fit the strenght of legendary and non legendary pokemon to a linear function to again highlight the differences between legendary and non-legendary pokemon. Again, the total score of legendary pokemon is structurally higher than the total score of non-legendary pokemon, which also explains the difference in slope between the two lines. In addition, most of the pokemon appearing in the top ten of the strength index are legendary pokemon."
   ]
  },
  {
   "cell_type": "code",
   "execution_count": null,
   "metadata": {
    "collapsed": false,
    "deletable": true,
    "editable": true
   },
   "outputs": [],
   "source": [
    "sns.lmplot(data=new_df,x='Strength index',y='Total',hue='Legendary', size=10)"
   ]
  },
  {
   "cell_type": "markdown",
   "metadata": {
    "editable": true
   },
   "source": [
    "Here we made a boxplot with the difference in strength between pokemon types for Type 1. You can see that some pokemon types are on average stronger than others."
   ]
  },
  {
   "cell_type": "code",
   "execution_count": null,
   "metadata": {
    "collapsed": false,
    "deletable": true,
    "editable": true
   },
   "outputs": [],
   "source": [
    "f, ax = plt.subplots(figsize=(15,10))\n",
    "sns.boxplot(data=new_df, x='Strength index',y='Type 1',ax=ax)"
   ]
  },
  {
   "cell_type": "markdown",
   "metadata": {
    "editable": true
   },
   "source": [
    "The same was done for Type 2"
   ]
  },
  {
   "cell_type": "code",
   "execution_count": null,
   "metadata": {
    "collapsed": false,
    "deletable": true,
    "editable": true
   },
   "outputs": [],
   "source": [
    "f, ax = plt.subplots(figsize=(15,10))\n",
    "sns.boxplot(data=new_df, x='Strength index',y='Type 2',ax=ax)"
   ]
  },
  {
   "cell_type": "markdown",
   "metadata": {
    "editable": true
   },
   "source": [
    "Finally, we indexed the average strength for all pokemon type combinations, here you can see that a pokemon with the Ground/Fire combination for type on average has the highest strength score. The Rock/Dragon combination gives the lowest score."
   ]
  },
  {
   "cell_type": "code",
   "execution_count": null,
   "metadata": {
    "collapsed": false,
    "deletable": true,
    "editable": true
   },
   "outputs": [],
   "source": [
    "grouped_df = new_df[['Type 1','Type 2','Strength index']].groupby(['Type 1','Type 2']).mean().sort_values(by='Strength index',ascending=False)\n",
    "grouped_df = grouped_df.reset_index()\n",
    "grouped_df = grouped_df.rename(columns={'Strength index':'Average strength index'})\n",
    "grouped_df['Average strength index'] = np.around(grouped_df['Average strength index'],2)\n",
    "grouped_df"
   ]
  }
 ],
 "metadata": {
  "anaconda-cloud": {},
  "kernelspec": {
   "display_name": "Python 2",
   "language": "python",
   "name": "python2"
  },
  "language_info": {
   "codemirror_mode": {
    "name": "ipython",
    "version": 2
   },
   "file_extension": ".py",
   "mimetype": "text/x-python",
   "name": "python",
   "nbconvert_exporter": "python",
   "pygments_lexer": "ipython2",
   "version": "2.7.11"
  },
  "latex_envs": {
   "LaTeX_envs_menu_present": true,
   "bibliofile": "biblio.bib",
   "cite_by": "apalike",
   "current_citInitial": 1,
   "eqLabelWithNumbers": true,
   "eqNumInitial": 1,
   "hotkeys": {
    "equation": "Ctrl-E",
    "itemize": "Ctrl-I"
   },
   "labels_anchors": false,
   "latex_user_defs": false,
   "report_style_numbering": false,
   "user_envs_cfg": false
  }
 },
 "nbformat": 4,
 "nbformat_minor": 0
}
